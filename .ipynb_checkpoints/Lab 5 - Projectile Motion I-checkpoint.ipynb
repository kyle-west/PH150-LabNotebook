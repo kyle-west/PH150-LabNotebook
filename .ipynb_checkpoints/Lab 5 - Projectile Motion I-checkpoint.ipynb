{
 "cells": [
  {
   "cell_type": "markdown",
   "metadata": {},
   "source": [
    "# Lab 5 - Projectile Motion I\n",
    "        May 24, 2018 & May 31 2018\n",
    "        \n",
    "[<< Table of Contents](index.html)"
   ]
  },
  {
   "cell_type": "markdown",
   "metadata": {},
   "source": [
    "## P5.1\n",
    "In this exercise you will write a Python function that calculates the range of\n",
    "a particle. In other words, this function will answer the question: \"After my\n",
    "projectile has traveled $h$ meters vertically, where will it be located horizontally?\"\n",
    "\n",
    "##### (a) Derive the equation for the range of the projectile. First work in the y-direction to determine the time of flight. Next, use this time of flight to find the horizontal range of the projectile. Set the launch position as your origin and let $y_f$ be the height of the target. You should find that:\n",
    "\n",
    "<sub>5.4</sub>\n",
    "$$\n",
    "x_f = v \\cos{\\theta}\\Bigg[ \\frac{v\\sin{\\theta} \\sqrt{v^2 \\sin^2{\\theta} - 2gy_f}}{g} \\Bigg]\n",
    "$$\n",
    "\n",
    "![Scratch Work](lab5_fig1.jpg)\n",
    "\n",
    "\n",
    "##### (b) Read section 4.3 in the python book to remind yourself about python functions.\n",
    "> I know Python better than I know english, so I did not feel the need to read.\n",
    "\n",
    "##### (c) Write a python function that evaluates equation (5.4) and returns the range of the particle and the flight time. The function should take the launch speed, launch angle, and target height as arguments. The function should return the flight time and the horizontal landing location of the projectile."
   ]
  },
  {
   "cell_type": "code",
   "execution_count": 31,
   "metadata": {},
   "outputs": [],
   "source": [
    "import numpy as np\n",
    "import warnings\n",
    "warnings.filterwarnings(\"ignore\")\n",
    "\n",
    "# speed {m/s}, angle {degrees}, target_height {meters}\n",
    "def _time_of_flight(speed, angle, target_height):\n",
    "    v = speed * np.sin(np.radians(angle))\n",
    "    g = 9.81 # m/s^2\n",
    "    return (v + np.sqrt(v**2 - 2*g*target_height))/g\n",
    "\n",
    "# speed {m/s}, angle {degrees}, target_height {meters}\n",
    "def _range(speed, angle, time):\n",
    "    return speed * np.cos(np.radians(angle)) * time\n",
    "\n",
    "# speed {m/s}, angle {degrees}, time {seconds}\n",
    "def eval_flight(speed, angle, target_height):\n",
    "    t = _time_of_flight(speed, angle, target_height)\n",
    "    r = _range(speed, angle, t)\n",
    "    return { \"time\" : t, \"range\": r }\n"
   ]
  },
  {
   "cell_type": "markdown",
   "metadata": {},
   "source": [
    "##### (d) Call your function using the values given to check that it is working correctly."
   ]
  },
  {
   "cell_type": "code",
   "execution_count": 32,
   "metadata": {},
   "outputs": [
    {
     "name": "stdout",
     "output_type": "stream",
     "text": [
      "TESTING:  4.5 60 0.75\n",
      "{'time': 0.46732932428882246, 'range': 1.0514909796498508}\n",
      "TESTING:  8.2 60 0.75\n",
      "{'time': 1.3330898184338456, 'range': 5.465668255578768}\n",
      "TESTING:  8.5 30 0.75\n",
      "{'time': 0.6197367427475226, 'range': 4.562015984462796}\n",
      "TESTING:  8.5 60 0.75\n",
      "{'time': 1.3908185844757357, 'range': 5.910978984021878}\n",
      "TESTING:  4.5 30 -0.75\n",
      "{'time': 0.682690124782067, 'range': 2.660521459383173}\n"
     ]
    }
   ],
   "source": [
    "velocities = [4.5, 8.2, 8.5, 8.5, 4.5]\n",
    "angles = [60, 60, 30, 60, 30]\n",
    "target_heights = [0.75, 0.75, 0.75, 0.75, -0.75]\n",
    "ranges = []\n",
    "\n",
    "for s, a, h in zip(velocities, angles, target_heights):\n",
    "    print(\"TESTING: \", s, a, h)\n",
    "    ranges.append(eval_flight(s, a, h))\n",
    "    print(ranges[-1])\n"
   ]
  },
  {
   "cell_type": "markdown",
   "metadata": {},
   "source": [
    "> the above values match the results in the book"
   ]
  },
  {
   "cell_type": "markdown",
   "metadata": {},
   "source": [
    "## P5.2\n"
   ]
  },
  {
   "cell_type": "markdown",
   "metadata": {},
   "source": [
    "##### (a) Pick one of these derivatives (found in the book) and verify that it is correct. Record the pencil-and-paper work in your lab notebook.\n",
    "\n",
    "$$\n",
    "x_f = v \\cos{\\theta}\\Bigg[ \\frac{v\\sin{\\theta} \\sqrt{v^2 \\sin^2{\\theta} - 2gy_f}}{g} \\Bigg]\n",
    "$$\n",
    "<br>\n",
    "\n",
    "$$\n",
    "\\frac{\\delta x_f}{\\delta y_f}= \\frac{\\delta}{\\delta y_f} v \\cos{\\theta}\\Bigg[ \\frac{v\\sin{\\theta} \\sqrt{v^2 \\sin^2{\\theta} - 2gy_f}}{g} \\Bigg]\n",
    "$$\n",
    "<br>\n",
    "\n",
    "$$\n",
    "\\frac{\\delta x_f}{\\delta y_f}= \\frac{\\delta}{\\delta y_f} \n",
    "    \\frac{v^2 \\cos{\\theta} \\sin{\\theta}}{g} + \\frac{v\\cos{\\theta} \\big(v^2 \\sin^2{\\theta} - 2gy_f)^{\\frac{1}{2}}}{g}  \n",
    "$$\n",
    "<br>\n",
    "\n",
    "$$\n",
    "\\frac{\\delta x_f}{\\delta y_f}= \\frac{\\delta}{\\delta y_f} \n",
    "    \\frac{2 g v\\cos{\\theta}}{2g \\big(v^2 \\sin^2{\\theta} - 2gy_f)^{\\frac{1}{2}}}  \n",
    "$$\n",
    "<br>\n",
    "\n",
    "\n",
    "$$\n",
    "\\frac{\\delta x_f}{\\delta y_f}= \\frac{\\delta}{\\delta y_f} \n",
    "    \\frac{v\\cos{\\theta}}{\\big(v^2 \\sin^2{\\theta} - 2gy_f)^{\\frac{1}{2}}}  \n",
    "$$\n",
    "<br>\n",
    "<br>\n",
    "\n",
    "> this matches the result (5.9) in the book"
   ]
  },
  {
   "cell_type": "markdown",
   "metadata": {},
   "source": [
    "##### (b) Use equations (5.5) - (5.9) to construct a Python function to calculate the uncertainty in the range."
   ]
  },
  {
   "cell_type": "code",
   "execution_count": 33,
   "metadata": {},
   "outputs": [],
   "source": [
    "class PartialDerivative:\n",
    "    # v (velocity), t (angle), y (height)\n",
    "    def __init__(self, v, t, y):\n",
    "        self.g = 9.8 # m/s^2\n",
    "        self.v = v\n",
    "        self.v2 = v**2\n",
    "        self.t = t\n",
    "        self.y = y\n",
    "        self.theta = np.radians(t)\n",
    "        self.sin = np.sin(self.theta)\n",
    "        self.cos = np.cos(self.theta)\n",
    "        self.v_sin = v * self.sin\n",
    "        self.v_cos = v * self.cos\n",
    "        self.sin2 = self.sin**2\n",
    "        self.square = np.sqrt((self.v2 * self.sin2) - (2*self.g*y))\n",
    "        \n",
    "\n",
    "    def with_respect_to_velocity(self):\n",
    "        term1 = self.cos*((self.v_sin + self.square)/self.g)\n",
    "        term2 = (self.v_cos/self.g) *(self.sin + (self.v*self.sin2/self.square))\n",
    "        return term1 + term2\n",
    "    \n",
    "    \n",
    "    def with_respect_to_theta(self):\n",
    "        term1 = self.v_sin * ((self.v_sin + self.square) / self.g)\n",
    "        term2 = (self.v_cos/self.g)*(self.v_cos + ((self.v2*self.sin*self.cos)/self.square))\n",
    "        return -term1 + term2\n",
    "    \n",
    "    \n",
    "    def with_respect_to_height(self):\n",
    "        return - (self.v_cos / self.square)\n",
    "\n",
    "def rangeUncertainty(v,deltaV, theta,deltaTheta, finalHeight,deltaHeight):\n",
    "    PD = PartialDerivative(v, theta, finalHeight)\n",
    "    a = (PD.with_respect_to_velocity() * deltaV)**2\n",
    "    b = (PD.with_respect_to_theta() * np.radians(deltaTheta))**2\n",
    "    c = (PD.with_respect_to_height() * deltaHeight)**2\n",
    "    return np.sqrt(a + b + c)"
   ]
  },
  {
   "cell_type": "markdown",
   "metadata": {},
   "source": [
    "##### (c) Call your function using the values below to verify that it is working correctly."
   ]
  },
  {
   "cell_type": "code",
   "execution_count": 34,
   "metadata": {},
   "outputs": [
    {
     "name": "stdout",
     "output_type": "stream",
     "text": [
      "RANGE UNCERTAINTY: 4.5±0.03, 60±1.0, 0.75±0.025 ==> 0.09688466895508206\n",
      "RANGE UNCERTAINTY: 8.2±0.03, 60±1.0, 0.75±0.025 ==> 0.11042641610909386\n",
      "RANGE UNCERTAINTY: 8.5±0.03, 30±0.5, 0.75±0.01 ==> 0.15251650901236571\n",
      "RANGE UNCERTAINTY: 8.5±0.03, 30±0.1, 0.75±0.01 ==> 0.07229290537493593\n",
      "RANGE UNCERTAINTY: 4.5±0.03, 30±1.0, -0.75±0.025 ==> 0.037262357842082657\n"
     ]
    }
   ],
   "source": [
    "# sets of tuples {(value, uncertainty)}\n",
    "vel = [(4.5,.03), (8.2,.03), (8.5,.03), (8.5,.03), (4.5,.03)]\n",
    "ang = [(60,1.0), (60,1.0), (30,0.5), (30,0.1), (30,1.0)]\n",
    "y_f = [(0.75,0.025), (0.75,0.025), (0.75,0.01), (0.75,0.01), (-0.75,0.025)]\n",
    "\n",
    "for v, a, y in zip(vel, ang, y_f):\n",
    "    un = rangeUncertainty(v[0],v[1], a[0],a[1], y[0],y[1])\n",
    "    print (\"RANGE UNCERTAINTY: {}±{}, {}±{}, {}±{} ==> {}\".format(v[0],v[1], a[0],a[1], y[0],y[1], un))"
   ]
  },
  {
   "cell_type": "markdown",
   "metadata": {},
   "source": [
    "> These values match the numbers in the book"
   ]
  },
  {
   "cell_type": "markdown",
   "metadata": {},
   "source": [
    "## P5.3\n",
    "Now we need to search for the angle that will cause the projectile to hit the\n",
    "target. The idea here is to consider a large number of launch angles. For\n",
    "each launch angle we check to see if the target was hit. If it was, we stop, if\n",
    "we didn’t let’s keep checking more launch angles. This idea is depicted in\n",
    "figures 5.1 and 5.2. Follow the steps below to implement this."
   ]
  },
  {
   "cell_type": "markdown",
   "metadata": {},
   "source": [
    "##### (a) Read chapter 6 in the python book to learn about loops and logic.\n",
    "> I don't need to read the chapter, I am VERY familiar with loops and logic.\n",
    "\n",
    "#####  (b) To search for the right launch angle, let’s pick a range of launch angles and loop over them. For each launch angle, we’ll calculate the landing location of the projectile and it’s associated uncertainty. If the target’s location falls within the uncertainty window, we’ll stop. If it didn’t, we’ll keep going with the loop until it does."
   ]
  },
  {
   "cell_type": "code",
   "execution_count": 35,
   "metadata": {},
   "outputs": [],
   "source": [
    "def hit_the_target(velocity, xf, height, uncertainty = {'angle':1.0, 'velocity':1.0 , 'height':1.0}):\n",
    "    acceptable_angles = []\n",
    "    for angle in range(-91, 91, 1):\n",
    "        uncert = rangeUncertainty(velocity,uncertainty['velocity'], angle,uncertainty['angle'], height,uncertainty['height'])\n",
    "        calculatedRange = eval_flight(velocity, angle, height)['range'];\n",
    "        if abs(calculatedRange - xf) < uncert:\n",
    "            acceptable_angles.append({'angle': angle, 'uncertainty': uncert})\n",
    "    return acceptable_angles"
   ]
  },
  {
   "cell_type": "code",
   "execution_count": 36,
   "metadata": {},
   "outputs": [
    {
     "name": "stdout",
     "output_type": "stream",
     "text": [
      "{'angle': 54, 'uncertainty': 0.3560004306214983}\n",
      "{'angle': 69, 'uncertainty': 0.08605357092563823}\n",
      "{'angle': 70, 'uncertainty': 0.08552763306039197}\n",
      "{'angle': 71, 'uncertainty': 0.08514467274726854}\n"
     ]
    }
   ],
   "source": [
    "uncertainty = {'angle': 1.0, 'velocity': 0.08 , 'height': .025}\n",
    "hits = hit_the_target(5.5, 1.5, 1.0, uncertainty)\n",
    "\n",
    "for hit in hits: print(hit)"
   ]
  },
  {
   "cell_type": "markdown",
   "metadata": {},
   "source": [
    "## P5.3\n",
    "In preparation for B. Nelson’s “test” of your code, calculate the exit speed\n",
    "for _all three clicks_ on your launcher. When B. Nelson gives you a target to\n",
    "hit, you will be free to choose any of the three clicks to hit the target. Now\n",
    "test your code on several scenarios. Be sure to attempt to hit a target that\n",
    "is both _above_ and below the launcher. When you feel confident that your\n",
    "code is working correctly, call B. Nelson over and he will give you a target to\n",
    "hit. You will then have 1minute to measure the target’s x-y coordinates and\n",
    "1 minute to determine the correct launch angle and hit the target.\n",
    "\n",
    "> Below are our targets, our cannon was broken, so we could not fire with `1` click\n",
    "\n",
    "|Clicks|Height (m)|Exit Velocity (m/s)|\n",
    "|--|\n",
    "|1|N/A|N/A|\n",
    "|2|0.666|3.615|\n",
    "|3|1.256|4.964|\n",
    "<sub>Below is the work used to calculate the velocities<sub>\n"
   ]
  },
  {
   "cell_type": "code",
   "execution_count": 37,
   "metadata": {},
   "outputs": [
    {
     "name": "stdout",
     "output_type": "stream",
     "text": [
      "[nan, 3.614819497568309, 4.964143430643397]\n"
     ]
    }
   ],
   "source": [
    "# calculate\n",
    "click_velocity = [np.sqrt(2*9.81*x) for x in [np.nan, 0.666, 1.256]]\n",
    "print(click_velocity)"
   ]
  },
  {
   "cell_type": "markdown",
   "metadata": {},
   "source": [
    "### THE TEST\n",
    "\n",
    "Below are the calculations for Brother Nelson's test. The coordinates are represented in a touple `(x, y)` in meters."
   ]
  },
  {
   "cell_type": "code",
   "execution_count": 38,
   "metadata": {},
   "outputs": [
    {
     "name": "stdout",
     "output_type": "stream",
     "text": [
      "Calculating clicks and angles needed to hit a target at (1.8, 0.05499999999999994)\n",
      "1 CLICK ---------------- \n",
      "2 CLICK ---------------- \n",
      "3 CLICK ---------------- \n",
      "    {'angle': 23, 'uncertainty': 0.16514338007027227}\n",
      "    {'angle': 24, 'uncertainty': 0.15905759649144183}\n",
      "    {'angle': 25, 'uncertainty': 0.15335358812656427}\n",
      "    {'angle': 26, 'uncertainty': 0.1479537270055894}\n",
      "    {'angle': 27, 'uncertainty': 0.14280361378726933}\n",
      "    {'angle': 65, 'uncertainty': 0.1272834101529765}\n",
      "    {'angle': 66, 'uncertainty': 0.1304345169337219}\n",
      "    {'angle': 67, 'uncertainty': 0.13354042857772386}\n",
      "    {'angle': 68, 'uncertainty': 0.136588867387097}\n"
     ]
    }
   ],
   "source": [
    "target_coordinates = (1.8, 1.085 - 1.03)\n",
    "uncertainty = {'angle': 2, 'velocity': 0.08 , 'height': .025}\n",
    "\n",
    "print (\"Calculating clicks and angles needed to hit a target at\", target_coordinates)\n",
    "for click in range(0,3):\n",
    "    hits = hit_the_target(click_velocity[click], target_coordinates[0], target_coordinates[1], uncertainty)\n",
    "    print (click+1,\"CLICK ---------------- \")\n",
    "    for hit in hits: print('   ', hit)"
   ]
  },
  {
   "cell_type": "markdown",
   "metadata": {},
   "source": [
    "> We successfully hit the target `(1.8, 0.055)` meters away with the cannon set at $66.5^\\circ$. "
   ]
  },
  {
   "cell_type": "markdown",
   "metadata": {},
   "source": [
    "# Take home thoughts\n",
    "\n",
    "This was the most fun lab so far. I will be honest that I don't like typing math functions, but we were successful so it all pays off. I am glad we took two weeks because we needed it. I am pretty happy with the results.\n",
    "\n",
    "# Signing off\n",
    "\n",
    "- Kyle West\n",
    "- Landon Lewis"
   ]
  },
  {
   "cell_type": "code",
   "execution_count": null,
   "metadata": {},
   "outputs": [],
   "source": []
  }
 ],
 "metadata": {
  "kernelspec": {
   "display_name": "Python 3",
   "language": "python",
   "name": "python3"
  },
  "language_info": {
   "codemirror_mode": {
    "name": "ipython",
    "version": 3
   },
   "file_extension": ".py",
   "mimetype": "text/x-python",
   "name": "python",
   "nbconvert_exporter": "python",
   "pygments_lexer": "ipython3",
   "version": "3.6.5"
  }
 },
 "nbformat": 4,
 "nbformat_minor": 2
}
