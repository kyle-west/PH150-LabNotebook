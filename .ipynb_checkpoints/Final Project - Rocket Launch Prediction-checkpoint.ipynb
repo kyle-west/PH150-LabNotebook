{
 "cells": [
  {
   "cell_type": "markdown",
   "metadata": {},
   "source": [
    "# Final Project - Rocket Launch Prediction\n",
    "\n",
    "    July 5th, 2018\n",
    "    \n",
    "[<< Table of Contents](index.html)"
   ]
  },
  {
   "cell_type": "markdown",
   "metadata": {},
   "source": [
    "## Imports and general constants"
   ]
  },
  {
   "cell_type": "code",
   "execution_count": 40,
   "metadata": {},
   "outputs": [],
   "source": [
    "import numpy as np\n",
    "from random import uniform\n",
    "from matplotlib import pyplot\n",
    "class Struct: pass\n",
    "class XY: \n",
    "    def __init__(self, x=0, y=0): \n",
    "        self.x, self.y = x, y\n",
    "        \n",
    "CONST = Struct()\n",
    "CONST.g = 9.81 # m/s^2"
   ]
  },
  {
   "cell_type": "markdown",
   "metadata": {},
   "source": [
    "## Representing the Engine\n",
    "\n",
    "In order to get a self-contained representation of the **class A8-3** engine, we will use a Python class to keep tract of the engine state. All values come from [this specification](https://www.apogeerockets.com/Rocket_Motors/Estes_Motors/18mm_Motors/Estes_Motors_A8-3)."
   ]
  },
  {
   "cell_type": "code",
   "execution_count": 41,
   "metadata": {},
   "outputs": [],
   "source": [
    "class Engine:\n",
    "    def __init__(self, BURN_TIME    = 0.7,     # s\n",
    "                       TOTAL_MASS   = 0.0167,  # kg\n",
    "                       FUEL_MASS    = 0.0033,  # kg\n",
    "                       IMPULSE      = 9.7      # N\n",
    "                ):\n",
    "        self.time             = 0.0\n",
    "        self.running          = True\n",
    "        self.BURN_TIME        = BURN_TIME;\n",
    "        self.TOTAL_MASS       = TOTAL_MASS\n",
    "        self.FUEL_MASS        = FUEL_MASS\n",
    "        self.IMPULSE          = IMPULSE\n",
    "        self.BURN_RATE        = FUEL_MASS / BURN_TIME\n",
    "        self.OUT_OF_FUEL_MASS = self.TOTAL_MASS - self.FUEL_MASS\n",
    "    \n",
    "    def getMass(self):\n",
    "        if not self.running:\n",
    "            return self.OUT_OF_FUEL_MASS\n",
    "        else:\n",
    "            return self.TOTAL_MASS - self.BURN_RATE * self.time\n",
    "    \n",
    "    def incTime(self, value):\n",
    "        self.time += value\n",
    "        self.__updateDependants(value)\n",
    "        \n",
    "    def __updateDependants(self, changeValue):\n",
    "        if (self.time >= self.BURN_TIME):\n",
    "            self.running = False"
   ]
  },
  {
   "cell_type": "markdown",
   "metadata": {},
   "source": [
    "## Representing Drag"
   ]
  },
  {
   "cell_type": "code",
   "execution_count": 42,
   "metadata": {},
   "outputs": [],
   "source": [
    "class Drag:\n",
    "    def __init__(self, A = 0 , p = 1.29, C = 0.1, v = 1):\n",
    "        self.value = C * A * .5 * p * (v**2)\n",
    "        self.A, self.p, self.C, self.v = A, p, C, v\n",
    "\n",
    "#     def withUncertainty(self, uncertainty):\n",
    "#         A = uniform(self.A - uncertainty.A, self.A - uncertainty.A)\n",
    "#         p = uniform(self.p - uncertainty.A, self.p - uncertainty.p)\n",
    "#         C = uniform(self.C - uncertainty.A, self.C - uncertainty.C)\n",
    "#         drag = Struct()\n",
    "#         drag.value = 0.5 * C * p * A \n",
    "#         return drag"
   ]
  },
  {
   "cell_type": "markdown",
   "metadata": {},
   "source": [
    "## Representing the Rocket\n",
    "\n",
    "The rokect has an engine, a parachute, and it's own weight. We will keep track of this using another Python class."
   ]
  },
  {
   "cell_type": "code",
   "execution_count": 46,
   "metadata": {},
   "outputs": [],
   "source": [
    "class Rocket:\n",
    "    def __init__(self, engine = Engine(), \n",
    "                       position                       = XY(),        # m, m\n",
    "                       velocity                       = XY(),        # m/s, m/s\n",
    "                       mass                           = 0.0509,      # kg\n",
    "                       PARACHUTE_CROSS_SECTIONAL_AREA = 10,          # m^2\n",
    "                       TOP_CROSS_SECTIONAL_AREA       = 10,          # m^2\n",
    "                       SIDE_CROSS_SECTIONAL_AREA      = 10           # m^2\n",
    "                ):\n",
    "        self.engine = engine\n",
    "        self.time = 0\n",
    "        self.PARACHUTE_CROSS_SECTIONAL_AREA = PARACHUTE_CROSS_SECTIONAL_AREA\n",
    "        self.TOP_CROSS_SECTIONAL_AREA       = TOP_CROSS_SECTIONAL_AREA\n",
    "        self.SIDE_CROSS_SECTIONAL_AREA      = SIDE_CROSS_SECTIONAL_AREA\n",
    "        self.mass                           = mass\n",
    "        self.postion                        = position\n",
    "        self.velocity                       = velocity\n",
    "        self.acceleration                   = XY()\n",
    "        \n",
    "        self.acceleration.y = self.engine.IMPULSE/self.getMass() - CONST.g\n",
    "        \n",
    "    def parachuteHasDeployed(self):\n",
    "        return not self.engine.running\n",
    "    \n",
    "    # RED FLAG - we don't know if this is right\n",
    "    def getXDrag(self, vx):\n",
    "        if self.parachuteHasDeployed():\n",
    "            drag = Drag(v = vx, A = self.SIDE_CROSS_SECTIONAL_AREA)\n",
    "            return drag.value / self.getMass()\n",
    "        else:\n",
    "            return 0.0\n",
    "    \n",
    "    def getYDrag(self, vy):\n",
    "        if self.parachuteHasDeployed():\n",
    "            drag = Drag(v = vy, A = self.PARACHUTE_CROSS_SECTIONAL_AREA)\n",
    "        else:\n",
    "            drag = Drag(v = vy, A = self.TOP_CROSS_SECTIONAL_AREA)\n",
    "        return drag.value / self.getMass()\n",
    "    \n",
    "    def getMass(self):\n",
    "        return self.mass + self.engine.getMass()\n",
    "    \n",
    "    def incTime(self, value):\n",
    "        self.time += value\n",
    "        self.__updateDependants(value)\n",
    "        \n",
    "    def __updateDependants(self, changeValue):\n",
    "        self.engine.incTime(changeValue)\n",
    "        "
   ]
  },
  {
   "cell_type": "code",
   "execution_count": 47,
   "metadata": {},
   "outputs": [
    {
     "data": {
      "text/plain": [
       "133.68112426035503"
      ]
     },
     "execution_count": 47,
     "metadata": {},
     "output_type": "execute_result"
    }
   ],
   "source": [
    "\n",
    "\n",
    "rocket = Rocket()\n",
    "\n",
    "rocket.incTime(2)\n",
    "rocket.getXDrag(1)\n",
    "rocket.acceleration.y"
   ]
  },
  {
   "cell_type": "markdown",
   "metadata": {},
   "source": [
    "## Simulator"
   ]
  },
  {
   "cell_type": "code",
   "execution_count": 4,
   "metadata": {},
   "outputs": [],
   "source": [
    "class Simulator:\n",
    "    def __init__(self, dt=0.001, gravity = -9.8): \n",
    "        self.g  = gravity  # m/s^2\n",
    "        self.dt = dt       # s\n",
    "        self.last_run = Struct();\n",
    "\n",
    "    # Euler's Method for running a launch simulation\n",
    "    # drag and mass optional\n",
    "    def run(self, angle, velocity, height, drag = Drag(), mass = 1):\n",
    "        fail_safe = 0;\n",
    "        a    = angle     # degrees\n",
    "        v    = velocity  # m/s \n",
    "        h    = height    # m\n",
    "        time = [0]       # s\n",
    "        x    = [0]       # m\n",
    "        y    = [h]       # m\n",
    "        vx   = [v * np.cos(np.radians(a))] # m/s\n",
    "        vy   = [v * np.sin(np.radians(a))] # m/s\n",
    "        B    = drag.value / mass\n",
    "        \n",
    "        while (y[-1] > 0.0 or vy[-1] > 0.0):\n",
    "            drag_part = - B * np.sqrt(vx[-1]**2 + vy[-1]**2) * self.dt\n",
    "            x    .append(x[-1] + vx[-1] * self.dt)\n",
    "            y    .append(y[-1] + vy[-1] * self.dt)\n",
    "            vx   .append(vx[-1] + drag_part * vx[-1])\n",
    "            vy   .append(vy[-1] + drag_part * vy[-1] + self.g * self.dt)\n",
    "            time .append(time[-1] + self.dt)\n",
    "            \n",
    "            fail_safe += 1\n",
    "            if fail_safe > 100000: break\n",
    "        \n",
    "        return time, x,y, vy,vy\n",
    "    \n",
    "class Settings:\n",
    "    def __init__(self, dt = .1, showPlot = True, showHist = True):\n",
    "        self.dt = dt\n",
    "        self.showHist = showHist\n",
    "        self.showPlot = showPlot\n",
    "\n",
    "\n",
    "def runSimulation (values, uncertainty, drag = Drag(), settings = Settings()):\n",
    "    num_trials = 100\n",
    "    ranges = []\n",
    "    velocities = []\n",
    "    heights = []\n",
    "\n",
    "    if settings.showPlot:\n",
    "        pyplot.figure(1)\n",
    "\n",
    "    for i in range(num_trials):\n",
    "        # Get a random numbers from a uniform distribution\n",
    "        a = uniform(values.angle    - uncertainty.angle,    values.angle    + uncertainty.angle)\n",
    "        v = uniform(values.velocity - uncertainty.velocity, values.velocity + uncertainty.velocity)\n",
    "        g = uniform(values.gravity  - uncertainty.gravity,  values.gravity  + uncertainty.gravity)\n",
    "        h = uniform(values.height   - uncertainty.height,   values.height   + uncertainty.height)\n",
    "\n",
    "        # run a Euler's Method simulation on the launch\n",
    "        sim = Simulator(gravity = -g, dt = settings.dt)\n",
    "        time, x,y, vy,vy = sim.run(a, v, h, mass = values.mass, drag = drag.withUncertainty(uncertainty))\n",
    "\n",
    "        # plot and record results\n",
    "        if settings.showPlot: pyplot.plot(x,y)\n",
    "        ranges.append(x[-1])\n",
    "        velocities.append(max(max(vy), abs(min(vy))))\n",
    "        heights.append(max(y))\n",
    "\n",
    "    print(\"Mean of the ranges:              {:.2f}m\".format(np.mean(ranges)))\n",
    "    print(\"Standard deviation of ranges:    {:.2f}\".format(np.std(ranges)))\n",
    "    print(\"Max velocity in for y direction: {:.2f}m/s\".format(max(velocities)))\n",
    "    print(\"Max height:                      {:.2f}m\".format(max(heights)))\n",
    "    if settings.showHist:\n",
    "        pyplot.figure(2) \n",
    "        pyplot.hist(ranges)\n",
    "    \n",
    "    if settings.showPlot or settings.showHist: pyplot.show()"
   ]
  },
  {
   "cell_type": "markdown",
   "metadata": {},
   "source": [
    "## Measurements\n",
    "\n",
    "Below are the measurements we made on our rocket, needed for the experiment.\n",
    "\n",
    "> Rocket weight with out the engine: `0.0509 kg` $\\pm$ `.0002 kg`\n",
    "\n",
    "> Engine weight `0.0167 kg` $\\pm$ `.0002 kg`\n",
    "\n",
    "> Flame retardent paper: `0.0004 kg` $\\pm$ `.0002 kg`"
   ]
  },
  {
   "cell_type": "markdown",
   "metadata": {},
   "source": [
    "# Run Simulation"
   ]
  },
  {
   "cell_type": "code",
   "execution_count": 5,
   "metadata": {},
   "outputs": [
    {
     "name": "stdout",
     "output_type": "stream",
     "text": [
      "Mean of the ranges:              28.74m\n",
      "Standard deviation of ranges:    0.20\n",
      "Max velocity in for y direction: 21.57m/s\n",
      "Max height:                      40.12m\n"
     ]
    },
    {
     "data": {
      "image/png": "[encoded data removed]",
      "text/plain": [
       "<Figure size 432x288 with 1 Axes>"
      ]
     },
     "metadata": {},
     "output_type": "display_data"
    }
   ],
   "source": [
    "values = Struct()\n",
    "values.angle    = 45.0  # degrees\n",
    "values.velocity = 30.0  # m/s\n",
    "values.gravity  = 9.8   # m/s^2\n",
    "values.height   = 30   # m\n",
    "values.mass     = 0.01  # kg\n",
    "values.area     = np.pi * (0.05**2) # m^2\n",
    "\n",
    "uncertainty = Struct()\n",
    "uncertainty.angle    = 1    # degrees\n",
    "uncertainty.velocity = 0.01 # m/s\n",
    "uncertainty.gravity  = 0.01 # m/s^2\n",
    "uncertainty.height   = 0    # m\n",
    "uncertainty.mass     = 0    # kg\n",
    "uncertainty.A        = 0    # m^2\n",
    "uncertainty.C        = 0\n",
    "uncertainty.p        = 0    # kg/m^3\n",
    "\n",
    "runSimulation(values, uncertainty, Drag(A = values.area, p = 1.3), Settings(showHist=False))"
   ]
  },
  {
   "cell_type": "code",
   "execution_count": null,
   "metadata": {},
   "outputs": [],
   "source": []
  }
 ],
 "metadata": {
  "kernelspec": {
   "display_name": "Python 3",
   "language": "python",
   "name": "python3"
  },
  "language_info": {
   "codemirror_mode": {
    "name": "ipython",
    "version": 3
   },
   "file_extension": ".py",
   "mimetype": "text/x-python",
   "name": "python",
   "nbconvert_exporter": "python",
   "pygments_lexer": "ipython3",
   "version": "3.6.5"
  }
 },
 "nbformat": 4,
 "nbformat_minor": 2
}
