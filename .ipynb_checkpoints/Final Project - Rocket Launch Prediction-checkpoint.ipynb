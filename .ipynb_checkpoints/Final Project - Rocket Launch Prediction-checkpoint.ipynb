{
 "cells": [
  {
   "cell_type": "markdown",
   "metadata": {},
   "source": [
    "# Final Project - Rocket Launch Prediction\n",
    "\n",
    "    July 5th, 2018\n",
    "    \n",
    "[<< Table of Contents](index.html)"
   ]
  },
  {
   "cell_type": "markdown",
   "metadata": {},
   "source": [
    "## Imports and general constants"
   ]
  },
  {
   "cell_type": "code",
   "execution_count": 142,
   "metadata": {},
   "outputs": [],
   "source": [
    "import numpy as np\n",
    "from random import uniform\n",
    "from matplotlib import pyplot\n",
    "class Struct: pass\n",
    "class XY: \n",
    "    def __init__(self, x=0, y=0): \n",
    "        self.x, self.y = x, y\n",
    "        \n",
    "CONST = Struct()\n",
    "CONST.g = 9.81 # m/s^2"
   ]
  },
  {
   "cell_type": "markdown",
   "metadata": {},
   "source": [
    "## Representing the Engine\n",
    "\n",
    "In order to get a self-contained representation of the **class A8-3** engine, we will use a Python class to keep tract of the engine state. All values come from [this specification](https://www.apogeerockets.com/Rocket_Motors/Estes_Motors/18mm_Motors/Estes_Motors_A8-3)."
   ]
  },
  {
   "cell_type": "code",
   "execution_count": 143,
   "metadata": {},
   "outputs": [],
   "source": [
    "class Engine:\n",
    "    def __init__(self, BURN_TIME    = 0.7,     # s\n",
    "                       TOTAL_MASS   = 0.0167,  # kg\n",
    "                       FUEL_MASS    = 0.0033,  # kg\n",
    "                       IMPULSE      = 9.7      # N\n",
    "                ):\n",
    "        self.time             = 0.0\n",
    "        self.running          = True\n",
    "        self.BURN_TIME        = BURN_TIME;\n",
    "        self.TOTAL_MASS       = TOTAL_MASS\n",
    "        self.FUEL_MASS        = FUEL_MASS\n",
    "        self.IMPULSE          = IMPULSE\n",
    "        self.BURN_RATE        = FUEL_MASS / BURN_TIME\n",
    "        self.OUT_OF_FUEL_MASS = self.TOTAL_MASS - self.FUEL_MASS\n",
    "    \n",
    "    def getMass(self):\n",
    "        if not self.running:\n",
    "            return self.OUT_OF_FUEL_MASS\n",
    "        else:\n",
    "            return self.TOTAL_MASS - self.BURN_RATE * self.time\n",
    "        \n",
    "    def getThrust(self):\n",
    "        if not self.running:\n",
    "            return 0\n",
    "        else:\n",
    "            return self.IMPULSE\n",
    "    \n",
    "    def incTime(self, value):\n",
    "        self.time += value\n",
    "        self.__updateDependants(value)\n",
    "        \n",
    "    def __updateDependants(self, changeValue):\n",
    "        if (self.time >= self.BURN_TIME):\n",
    "            self.running = False"
   ]
  },
  {
   "cell_type": "markdown",
   "metadata": {},
   "source": [
    "## Representing Drag"
   ]
  },
  {
   "cell_type": "code",
   "execution_count": 144,
   "metadata": {},
   "outputs": [],
   "source": [
    "class Drag:\n",
    "    def __init__(self, A = 0 , p = 1.29, C = 0.1, v = 1):\n",
    "        self.value = C * A * .5 * p\n",
    "        self.A, self.p, self.C = A, p, C"
   ]
  },
  {
   "cell_type": "markdown",
   "metadata": {},
   "source": [
    "## Representing the Rocket\n",
    "\n",
    "The rokect has an engine, a parachute, and it's own weight. We will keep track of this using another Python class."
   ]
  },
  {
   "cell_type": "code",
   "execution_count": 156,
   "metadata": {},
   "outputs": [],
   "source": [
    "class Rocket:\n",
    "    def __init__(self, mass                           = 0.0509,     # kg\n",
    "                       PARACHUTE_CROSS_SECTIONAL_AREA = 0.0415,     # m^2\n",
    "                       TOP_CROSS_SECTIONAL_AREA       = 0.00048,    # m^2\n",
    "                       SIDE_CROSS_SECTIONAL_AREA      = 0.018,      # m^2\n",
    "                       windSpeed                      = 0           # m/s \n",
    "                ):\n",
    "        self.engine                         = Engine()\n",
    "        self.time                           = 0.0\n",
    "        self.windSpeed                      = windSpeed\n",
    "        self.PARACHUTE_CROSS_SECTIONAL_AREA = PARACHUTE_CROSS_SECTIONAL_AREA\n",
    "        self.TOP_CROSS_SECTIONAL_AREA       = TOP_CROSS_SECTIONAL_AREA\n",
    "        self.SIDE_CROSS_SECTIONAL_AREA      = SIDE_CROSS_SECTIONAL_AREA\n",
    "        self.mass                           = mass\n",
    "        self.position                       = XY()\n",
    "        self.velocity                       = XY()\n",
    "        self.acceleration                   = XY(\n",
    "            0, self.engine.IMPULSE/self.getMass() - CONST.g\n",
    "        )\n",
    "        \n",
    "    def parachuteHasDeployed(self):\n",
    "        return not self.engine.running\n",
    "    \n",
    "    # RED FLAG - we don't know if this is right\n",
    "    def getXDrag(self):\n",
    "        if self.parachuteHasDeployed():\n",
    "            drag = Drag(A = self.SIDE_CROSS_SECTIONAL_AREA)\n",
    "            return drag.value / self.getMass()\n",
    "        else:\n",
    "            return 0.0\n",
    "    \n",
    "    def getYDrag(self):\n",
    "        if self.parachuteHasDeployed():\n",
    "            drag = Drag(A = self.PARACHUTE_CROSS_SECTIONAL_AREA)\n",
    "        else:\n",
    "            drag = Drag(A = self.TOP_CROSS_SECTIONAL_AREA)\n",
    "        return drag.value / self.getMass()\n",
    "    \n",
    "    def getMass(self):\n",
    "        return self.mass + self.engine.getMass()\n",
    "    \n",
    "    def incTime(self, value):\n",
    "        self.time += value\n",
    "        self.__updateDependants(value)\n",
    "        \n",
    "    def __updateDependants(self, dt):\n",
    "        self.engine.incTime(dt)\n",
    "        \n",
    "        magnitude = np.sqrt(self.velocity.x**2 + self.velocity.y**2) * dt\n",
    "        drag_part_y = - self.getYDrag() * magnitude\n",
    "        self.acceleration.y = self.engine.getThrust() / self.getMass() - CONST.g\n",
    "        \n",
    "        if (self.velocity.x < self.windSpeed):\n",
    "            drag_part_x =   self.getXDrag() * magnitude\n",
    "            self.velocity.x += dt * self.acceleration.x + drag_part_x * self.windSpeed\n",
    "        else:\n",
    "            self.velocity.x = self.windSpeed\n",
    "        self.velocity.y += dt * self.acceleration.y + drag_part_y * self.velocity.y\n",
    "        self.position.x += dt * self.velocity.x\n",
    "        self.position.y += dt * self.velocity.y\n",
    "        \n",
    "        "
   ]
  },
  {
   "cell_type": "markdown",
   "metadata": {},
   "source": [
    "## Simulator"
   ]
  },
  {
   "cell_type": "code",
   "execution_count": 161,
   "metadata": {},
   "outputs": [
    {
     "name": "stdout",
     "output_type": "stream",
     "text": [
      "Max X: 17.41m\n",
      "Max Y: 58.38m\n"
     ]
    },
    {
     "data": {
      "image/png": "[encoded data removed]",
      "text/plain": [
       "<Figure size 432x288 with 1 Axes>"
      ]
     },
     "metadata": {},
     "output_type": "display_data"
    }
   ],
   "source": [
    "rocket = Rocket(windSpeed = 3.1)\n",
    "x = [0]\n",
    "y = [0]\n",
    "\n",
    "fail_safe = 0\n",
    "while (fail_safe < 10000 and rocket.position.y >= 0):\n",
    "    rocket.incTime(.1)\n",
    "    x.append(rocket.position.x)\n",
    "    y.append(rocket.position.y)\n",
    "    fail_safe += 1\n",
    "    \n",
    "print ('Max X: {:.2f}m'.format(max(x)))\n",
    "print ('Max Y: {:.2f}m'.format(max(y)))\n",
    "pyplot.plot(x,y)\n",
    "pyplot.show()"
   ]
  },
  {
   "cell_type": "markdown",
   "metadata": {},
   "source": [
    "## Measurements\n",
    "Below are the measurements we made on our rocket, needed for the experiment.\n",
    "\n",
    ">Rocket weight with out the engine: `0.0509 ± .0002 kg`\n",
    "\n",
    ">Engine weight `0.0167 ± .0002 kg`\n",
    "\n",
    ">Flame retardent paper: `0.0004 ± .0002 kg`"
   ]
  },
  {
   "cell_type": "code",
   "execution_count": null,
   "metadata": {},
   "outputs": [],
   "source": []
  }
 ],
 "metadata": {
  "kernelspec": {
   "display_name": "Python 3",
   "language": "python",
   "name": "python3"
  },
  "language_info": {
   "codemirror_mode": {
    "name": "ipython",
    "version": 3
   },
   "file_extension": ".py",
   "mimetype": "text/x-python",
   "name": "python",
   "nbconvert_exporter": "python",
   "pygments_lexer": "ipython3",
   "version": "3.6.5"
  }
 },
 "nbformat": 4,
 "nbformat_minor": 2
}
