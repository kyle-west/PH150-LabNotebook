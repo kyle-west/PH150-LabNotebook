{
 "cells": [
  {
   "cell_type": "markdown",
   "metadata": {},
   "source": [
    "# Lab 2 - Introduction to Measurements and Uncertainty\n",
    "    May 3, 2018"
   ]
  },
  {
   "cell_type": "markdown",
   "metadata": {},
   "source": [
    "[<< Table of Contents](index.html)"
   ]
  },
  {
   "cell_type": "markdown",
   "metadata": {},
   "source": [
    "## P2.1\n",
    "![Figure 1](lab2_fig1.png)\n",
    "What value would you assign to the length of the rod in the figure. If you had\n",
    "to choose a range that you felt very confident included the correct value but\n",
    "wasn’t too broad, what range would you choose? Discuss this question with\n",
    "your peers and write your responses down in your lab notebook. Re-create\n",
    "the figure at the right to help you with your discussion of this topic.\n",
    "\n",
    "> We agreed that the measurment was somewhere between `97.6` and `97.7` (we are guessing the units are in cm). This gives us a result of `97.65±0.03cm` because we know that the value is included, but we cannot estimate visually more accurate than one fourth of the empty space.\n"
   ]
  },
  {
   "cell_type": "markdown",
   "metadata": {},
   "source": [
    "## P2.2\n",
    "You will be given two metal blocks.\n",
    "\n",
    "- __(a)__ Using a ruler, measure each dimension of both blocks and record the uncertainty associated with the measurement.\n",
    "\n",
    "> **Block 1:** `4.95±0.04cm`, `1.90±0.04cm`, `1.87±0.04cm` \n",
    "\n",
    "> **Block 2:** `4.91±0.04cm`, `1.89±0.04cm`, `1.89±0.04cm`\n",
    "\n",
    "- __(b)__ Using a digital caliper, measure each dimension of both blocks and record the uncertainty associated with the measurement.\n",
    "\n",
    "> **Block 1:** `4.985±0.001cm`, `1.906±0.001cm`, `1.901±0.001cm`\n",
    "\n",
    "> **Block 2:** `5.021±0.001cm`, `1.898±0.001cm`, `1.900±0.001cm`"
   ]
  },
  {
   "cell_type": "markdown",
   "metadata": {},
   "source": [
    "## P2.3 \n",
    "If you were to omit the explicit uncertainties from your previous measurements\n",
    "on themetal blocks and instead use the implied uncertainties associated\n",
    "with significant figures, what would you report the blocks’ dimensions\n",
    "to be?\n",
    "\n",
    "_Using the ruler measurements:_\n",
    "\n",
    "> **Block 1:** `4.95±0.01cm`, `1.90±0.01cm`, `1.87±0.01cm` \n",
    "\n",
    "> **Block 2:** `4.91±0.01cm`, `1.89±0.01cm`, `1.89±0.01cm`"
   ]
  },
  {
   "cell_type": "markdown",
   "metadata": {},
   "source": [
    "## P2.4 \n",
    "Using the data taken from the metal blocks, perform the following:\n",
    "- __(a)__ Calculate the fractional uncertainty for each measurement taken.\n",
    "\\begin{align}\n",
    "fractionalUncertainty = \\frac{uncertainty}{measured value} \n",
    "\\end{align}\n",
    "<br>\n",
    "\\begin{align}\n",
    "block1_{length} = \\frac{0.04cm}{4.95cm} = 0.8\\%\n",
    "\\end{align}\n",
    "<br>\n",
    "\\begin{align}\n",
    "block1_{width} = \\frac{0.04cm}{1.90cm} = 2.1\\%\n",
    "\\end{align}\n",
    "<br>\n",
    "\\begin{align}\n",
    "block1_{height} = \\frac{0.04cm}{1.87cm} = 2.1\\%\n",
    "\\end{align}\n",
    "<br><br>\n",
    "<br>\n",
    "\\begin{align}\n",
    "block2_{length} = \\frac{0.04cm}{4.91cm} = 0.8\\%\n",
    "\\end{align}\n",
    "<br>\n",
    "\\begin{align}\n",
    "block2_{width} = \\frac{0.04cm}{1.89cm} = 2.1\\%\n",
    "\\end{align}\n",
    "<br>\n",
    "\\begin{align}\n",
    "block2_{height} = \\frac{0.04cm}{1.89cm} = 2.1\\%\n",
    "\\end{align}\n",
    "<br><br>\n",
    "\n",
    "- __(b)__ Assuming the caliper’s measurement to be the true value, calculate the percentage error of the measurements taken using the ruler.\n",
    "\\begin{align}\n",
    "\\%error = \\frac{(measuredValue)(theoreticalValue)}{(theoreticalValue)}\n",
    "\\end{align}\n",
    "<br><br>\n",
    "\\begin{align}\n",
    "block1_{length} = \\frac{4.95cm - 4.985cm}{4.985cm} = -0.70\\%\n",
    "\\end{align}\n",
    "<br>\n",
    "\\begin{align}\n",
    "block1_{width} = \\frac{1.90cm - 1.906cm}{1.906cm} = -0.31\\%\n",
    "\\end{align}\n",
    "<br>\n",
    "\\begin{align}\n",
    "block1_{height} = \\frac{1.87cm - 1.901cm}{1.901cm} = -1.89\\%\n",
    "\\end{align}\n",
    "<br><br>\n",
    "\\begin{align}\n",
    "block1_{length} = \\frac{4.91cm - 5.021cm}{5.021cm} = -2.21\\%\n",
    "\\end{align}\n",
    "<br>\n",
    "\\begin{align}\n",
    "block1_{width} = \\frac{1.89cm - 1.898cm}{1.898cm} = -0.42\\%\n",
    "\\end{align}\n",
    "<br>\n",
    "\\begin{align}\n",
    "block1_{height} = \\frac{1.89cm - 1.900cm}{1.900cm} = -0.53\\%\n",
    "\\end{align}\n",
    "<br><br>\n"
   ]
  },
  {
   "cell_type": "markdown",
   "metadata": {},
   "source": [
    "## P2.5 \n",
    "Using the dimensions of the blocks collected previously, complete the following:\n",
    "- __(a)__ Using the provided scales, measure the mass of each block with it’s associated uncertainty.\n",
    "\n",
    "> **Block 1:** `159.92±0.03g`\n",
    "\n",
    "> **Block 2:** `159.15±0.03g`\n",
    "\n",
    "- __(b)__ Using the density formula: calculate the densities of the two blocks. to determine if they are the same. Report all of your measurements and calculations in your lab notebook.\n",
    "\\begin{align} \\rho = \\frac{m}{v} \\end{align}\n",
    "<br><br>\n",
    "\\begin{align} block1 = \\frac{159.92g}{4.985cm \\times 1.906cm \\times 1.901cm} = 8.85\\frac{g}{cm^3}\\end{align}\n",
    "<br>\n",
    "\\begin{align} block2 = \\frac{159.15g}{5.021cm \\times 1.898cm \\times 1.900cm} = 8.79\\frac{g}{cm^3}\\end{align}\n",
    "<br><br>\n",
    "- __(c)__ Calculate uncertainties for your densities, and explain how this calculation affects your confidence in your conclusion about whether the densities are the same. Include your calculations used to determine the uncertainty in the densities in your lab notebook.\n",
    "\n",
    "*Volume Uncertainties*\n",
    "\\begin{align} block1Volume = \\bigg( \\frac{0.001cm}{4.985cm} + \\frac{0.001cm}{1.906cm} +\\frac{0.001cm}{1.901cm}\\bigg)18.062cm^3 = 0.0226cm^3 \\end{align}\n",
    "<br>\n",
    "\\begin{align} block2Volume = \\bigg( \\frac{0.001cm}{5.021cm} + \\frac{0.001cm}{1.898cm} +\\frac{0.001cm}{1.900cm}\\bigg)18.107cm^3 = 0.1597cm^3 \\end{align}\n",
    "<br>\n",
    "\n",
    "\n",
    "*Density Uncertainties*\n",
    "\\begin{align} block1Density = \\bigg( \\frac{0.0226cm^3}{18.062cm^3} + \\frac{0.03g}{159.92g}\\bigg)8.85\\frac{g}{cm^3} =  0.0127 \\frac{g}{cm^3}\\end{align}\n",
    "<br>\n",
    "\\begin{align} block1Density = \\bigg( \\frac{0.1597cm^3}{18.107cm^3} + \\frac{0.03g}{159.15g}\\bigg)8.79\\frac{g}{cm^3} =  0.0792 \\frac{g}{cm^3}\\end{align}\n",
    "<br>\n",
    "<br>"
   ]
  },
  {
   "cell_type": "markdown",
   "metadata": {},
   "source": [
    "## P2.6 \n",
    "Using the ball, timer, meter stick, and two photogates, performthe following:\n",
    "- __(a)__ Measure the fall time for a ball dropped from a height of 2.00 m, using a stopwatch. Assign uncertainties to all measured values. You may want to drop the ball several times until you get a time that you feel comfortable with. Record you measurements and their associated uncertainties.\n",
    "\n",
    "> It took `0.60±0.05s` to drop a ball from a height of `2.00±0.01m`\n",
    "\n",
    "- __(b)__ The acceleration due to gravity can now be computed using the following formula: Calculate g from your measured height and fall time. Record the details of your calculation.\n",
    "\\begin{align} g = \\frac{2h}{t^2} \\end{align}\n",
    "<br><br>\n",
    "\\begin{align} g = \\frac{2 \\times 2.00m}{(0.6s)^2} = 11.11 \\frac{m}{s^2}\\end{align}\n",
    "<br>\n",
    "\n",
    "- __(c)__ Now calculate the uncertainty in g . Record the details of your calculation.\n",
    "\n",
    "*Time Uncertainty*\n",
    "\\begin{align} \\delta t = 2\\bigg(\\frac{0.05s}{0.6s}\\bigg)0.36s^2 = 0.06s^2\\end{align}\n",
    "<br>\n",
    "\n",
    "*Acceleration Uncertainty*\n",
    "\\begin{align} \\delta g = \\bigg(\\frac{0.01m}{2.00m} + \\frac{0.06s^2}{0.36s^2} \\bigg)11.11 \\frac{m}{s^2} = 1.907 \\frac{m}{s^2}\\end{align}\n",
    "<br>\n",
    "\n",
    "\n",
    "- __(d)__ The accepted value for g is 9.8 m/s^2. Does this value fall within your uncertainty window?\n",
    "> `11.11±1.91 m/s^2` holds `9.8 m/s^2` within our certainty window.\n",
    "\n",
    "- __(e)__ Now use photogates to measure the fall time and comment on the precision of your results compared to the stopwatch method. Record all measurements, uncertainties, and calculations in your lab notebook. You might have to adjust the fall distance to accomodate the length of the cables on the photogates.\n",
    "> It took `0.2426±0.0001s` to drop a ball from a height of `0.8±0.01m`. Clearly this was a much more accurate measurement than the stopwatch method because it had a lower uncertainty."
   ]
  },
  {
   "cell_type": "markdown",
   "metadata": {},
   "source": [
    "## P2.7\n",
    "> Brother Nelson said \"Don't worry about #7 this week.\" So I am not."
   ]
  },
  {
   "cell_type": "markdown",
   "metadata": {},
   "source": [
    "# Take Home Message\n",
    "Typing formula after formula in raw `LaTeX` is a pain. Right now I don't know if having a digital notebook is worth it. It's really hard too to get accurate measurements using tools like rulers and stop watches. I am glad that in the real professional world, they have access to more percise instruments."
   ]
  },
  {
   "cell_type": "markdown",
   "metadata": {},
   "source": [
    "##### Signing Off:\n",
    ">Kyle West\n",
    "\n",
    ">LL"
   ]
  },
  {
   "cell_type": "code",
   "execution_count": null,
   "metadata": {},
   "outputs": [],
   "source": []
  }
 ],
 "metadata": {
  "kernelspec": {
   "display_name": "Python 3",
   "language": "python",
   "name": "python3"
  },
  "language_info": {
   "codemirror_mode": {
    "name": "ipython",
    "version": 3
   },
   "file_extension": ".py",
   "mimetype": "text/x-python",
   "name": "python",
   "nbconvert_exporter": "python",
   "pygments_lexer": "ipython3",
   "version": "3.6.5"
  }
 },
 "nbformat": 4,
 "nbformat_minor": 2
}
