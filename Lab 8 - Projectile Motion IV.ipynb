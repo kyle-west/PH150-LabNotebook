{
 "cells": [
  {
   "cell_type": "markdown",
   "metadata": {},
   "source": [
    "# Lab 8 - Projectile Motion IV: Incorporating Drag\n",
    "        June 21, 2018\n",
    "        \n",
    "[<< Table of Contents](index.html)"
   ]
  },
  {
   "cell_type": "markdown",
   "metadata": {},
   "source": [
    "## P8.1 \n",
    "Modify your projectile motion model from last week to include air resistance.\n",
    "The model should compute the trajectory of a projectile launched\n",
    "from any height, launch angle, and with any initial speed."
   ]
  },
  {
   "cell_type": "code",
   "execution_count": 240,
   "metadata": {},
   "outputs": [],
   "source": [
    "import numpy as np\n",
    "from random import uniform\n",
    "class Struct: pass\n",
    "\n",
    "class Drag:\n",
    "    def __init__(self, A = 0 , p = 1.29, C = 0.1):\n",
    "        self.value = 0.5 * C * p * A\n",
    "        self.A, self.p, self.C = A, p, C\n",
    "\n",
    "    def withUncertainty(self, uncertainty):\n",
    "        A = uniform(self.A - uncertainty.A, self.A - uncertainty.A)\n",
    "        p = uniform(self.p - uncertainty.A, self.p - uncertainty.p)\n",
    "        C = uniform(self.C - uncertainty.A, self.C - uncertainty.C)\n",
    "        drag = Struct()\n",
    "        drag.value = 0.5 * C * p * A \n",
    "        return drag\n",
    "        \n",
    "    \n",
    "class Simulator:\n",
    "    def __init__(self, dt=0.001, gravity = -9.8): \n",
    "        self.g  = gravity  # m/s^2\n",
    "        self.dt = dt       # s\n",
    "        self.last_run = Struct();\n",
    "\n",
    "    # Euler's Method for running a launch simulation\n",
    "    # drag and mass optional\n",
    "    def run(self, angle, velocity, height, drag = Drag(), mass = 1):\n",
    "        fail_safe = 0;\n",
    "        a    = angle     # degrees\n",
    "        v    = velocity  # m/s \n",
    "        h    = height    # m\n",
    "        time = [0]       # s\n",
    "        x    = [0]       # m\n",
    "        y    = [h]       # m\n",
    "        vx   = [v * np.cos(np.radians(a))] # m/s\n",
    "        vy   = [v * np.sin(np.radians(a))] # m/s\n",
    "        B    = drag.value / mass\n",
    "        \n",
    "        while (y[-1] > 0.0 or vy[-1] > 0.0):\n",
    "            drag_part = - B * np.sqrt(vx[-1]**2 + vy[-1]**2) * self.dt\n",
    "            x    .append(x[-1] + vx[-1] * self.dt)\n",
    "            y    .append(y[-1] + vy[-1] * self.dt)\n",
    "            vx   .append(vx[-1] + drag_part * vx[-1])\n",
    "            vy   .append(vy[-1] + drag_part * vy[-1] + self.g * self.dt)\n",
    "            time .append(time[-1] + self.dt)\n",
    "            \n",
    "            fail_safe += 1\n",
    "            if fail_safe > 100000: break\n",
    "        \n",
    "        return time, x,y, vy,vy"
   ]
  },
  {
   "cell_type": "code",
   "execution_count": 241,
   "metadata": {},
   "outputs": [],
   "source": [
    "values = Struct()\n",
    "values.angle    = 45.0  # degrees\n",
    "values.velocity = 30.0  # m/s\n",
    "values.gravity  = 9.8   # m/s^2\n",
    "values.height   = 30   # m\n",
    "values.mass     = 0.01  # kg\n",
    "values.area     = np.pi * (0.05**2) # m^2\n",
    "\n",
    "uncertainty = Struct()\n",
    "uncertainty.angle    = 1    # degrees\n",
    "uncertainty.velocity = 0.01 # m/s\n",
    "uncertainty.gravity  = 0.01 # m/s^2\n",
    "uncertainty.height   = 0    # m\n",
    "uncertainty.mass     = 0    # kg\n",
    "uncertainty.A        = 0    # m^2\n",
    "uncertainty.C        = 0\n",
    "uncertainty.p        = 0    # kg/m^3"
   ]
  },
  {
   "cell_type": "code",
   "execution_count": 242,
   "metadata": {},
   "outputs": [
    {
     "name": "stdout",
     "output_type": "stream",
     "text": [
      "Mean of the ranges:              28.74m\n",
      "Standard deviation of ranges:    0.21\n",
      "Max velocity in for y direction: 21.57m/s\n",
      "Max height:                      40.12m\n"
     ]
    },
    {
     "data": {
      "image/png": "[encoded data removed]",
      "text/plain": [
       "<Figure size 432x288 with 1 Axes>"
      ]
     },
     "metadata": {},
     "output_type": "display_data"
    }
   ],
   "source": [
    "from random import uniform\n",
    "from matplotlib import pyplot\n",
    "\n",
    "\n",
    "class Settings:\n",
    "    def __init__(self, dt = .1, showPlot = True, showHist = True):\n",
    "        self.dt = dt\n",
    "        self.showHist = showHist\n",
    "        self.showPlot = showPlot\n",
    "\n",
    "\n",
    "def runSimulation (values, uncertainty, drag = Drag(), settings = Settings()):\n",
    "    num_trials = 100\n",
    "    ranges = []\n",
    "    velocities = []\n",
    "    heights = []\n",
    "\n",
    "    if settings.showPlot:\n",
    "        pyplot.figure(1)\n",
    "\n",
    "    for i in range(num_trials):\n",
    "        # Get a random numbers from a uniform distribution\n",
    "        a = uniform(values.angle    - uncertainty.angle,    values.angle    + uncertainty.angle)\n",
    "        v = uniform(values.velocity - uncertainty.velocity, values.velocity + uncertainty.velocity)\n",
    "        g = uniform(values.gravity  - uncertainty.gravity,  values.gravity  + uncertainty.gravity)\n",
    "        h = uniform(values.height   - uncertainty.height,   values.height   + uncertainty.height)\n",
    "\n",
    "        # run a Euler's Method simulation on the launch\n",
    "        sim = Simulator(gravity = -g, dt = settings.dt)\n",
    "        time, x,y, vy,vy = sim.run(a, v, h, mass = values.mass, drag = drag.withUncertainty(uncertainty))\n",
    "\n",
    "        # plot and record results\n",
    "        if settings.showPlot: pyplot.plot(x,y)\n",
    "        ranges.append(x[-1])\n",
    "        velocities.append(max(max(vy), abs(min(vy))))\n",
    "        heights.append(max(y))\n",
    "\n",
    "    print(\"Mean of the ranges:              {:.2f}m\".format(np.mean(ranges)))\n",
    "    print(\"Standard deviation of ranges:    {:.2f}\".format(np.std(ranges)))\n",
    "    print(\"Max velocity in for y direction: {:.2f}m/s\".format(max(velocities)))\n",
    "    print(\"Max height:                      {:.2f}m\".format(max(heights)))\n",
    "    if settings.showHist:\n",
    "        pyplot.figure(2) \n",
    "        pyplot.hist(ranges)\n",
    "    \n",
    "    if settings.showPlot or settings.showHist: pyplot.show()\n",
    "    \n",
    "\n",
    "runSimulation(values, uncertainty, Drag(A = values.area, p = 1.3), Settings(showHist=False))"
   ]
  },
  {
   "cell_type": "markdown",
   "metadata": {},
   "source": [
    "> This matches the expected output as shown in the book"
   ]
  },
  {
   "cell_type": "markdown",
   "metadata": {},
   "source": [
    "## P8.2\n",
    "Using a high-speed camera, take a video of the motion. You are free to\n",
    "choose the launch angle and number of clicks on your cannon. Make sure\n",
    "you use the 30 fps setting on the camera. You will need a meter stick (or\n",
    "some other known length) to be in the field of view of your video. Follow\n",
    "the the procedure in the book to extract the trajectory and save it to file.\n",
    "\n",
    "\n",
    "> Here are our measurements of the ball before we filmed:\n",
    "\n",
    "    Weight: 0.2g\n",
    "    Diameter: 0.021m\n",
    "    Launch Angle: 50 degrees\n",
    "\n",
    "##### [Click here to download the video of our launch](lab8-video.AVI)"
   ]
  },
  {
   "cell_type": "markdown",
   "metadata": {},
   "source": [
    "## P8.3 \n",
    "The two unknown parameters in your Euler’s model are the exit speed and\n",
    "the drag coefficient. To find accurate values for these two paramters you\n",
    "will want to plot the data retrieved from logger pro on top of the predicted\n",
    "trajectory from Euler’s method. You can then vary the exit speed and drag\n",
    "coefficient until the two trajectories overlap."
   ]
  },
  {
   "cell_type": "code",
   "execution_count": 243,
   "metadata": {},
   "outputs": [
    {
     "name": "stdout",
     "output_type": "stream",
     "text": [
      "Mean of the ranges:              1.32m\n",
      "Standard deviation of ranges:    0.08\n",
      "Max velocity in for y direction: 4.25m/s\n",
      "Max height:                      0.46m\n"
     ]
    },
    {
     "data": {
      "image/png": "[encoded data removed]",
      "text/plain": [
       "<Figure size 432x288 with 1 Axes>"
      ]
     },
     "metadata": {},
     "output_type": "display_data"
    }
   ],
   "source": [
    "# READ in the logger pro data and parse the file\n",
    "with open('lab8.csv','r') as f:\n",
    "    lines = f.readlines()\n",
    "\n",
    "del lines[0] # Delete the header line\n",
    "t_logger = [float(n.split(',')[0]) for n in lines]\n",
    "x_logger = [float(n.split(',')[1]) for n in lines]\n",
    "y_logger = [float(n.split(',')[2]) for n in lines]\n",
    "pyplot.plot(x,y)\n",
    "\n",
    "\n",
    "# establish our approximations and run the simulation to validate the match\n",
    "values = Struct()\n",
    "values.angle    = 50.0   # degrees\n",
    "values.velocity = 3.3    # m/s\n",
    "values.gravity  = 9.8    # m/s^2\n",
    "values.height   = 0      # m\n",
    "values.mass     = 0.0002 # kg\n",
    "values.area     = np.pi * (0.0105**2) # m^2\n",
    "\n",
    "uncertainty = Struct()\n",
    "uncertainty.angle    = 1    # degrees\n",
    "uncertainty.velocity = 0.01 # m/s\n",
    "uncertainty.gravity  = 0.01 # m/s^2\n",
    "uncertainty.height   = 0    # m\n",
    "uncertainty.mass     = 0    # kg\n",
    "uncertainty.A        = 0.00001 # m^2\n",
    "uncertainty.C        = 0.01\n",
    "uncertainty.p        = 0.1     # kg/m^3\n",
    "\n",
    "\n",
    "drag = Drag(A = values.area, C = .08)\n",
    "\n",
    "\n",
    "# run the simulation\n",
    "runSimulation(values, uncertainty, drag, Settings(dt = .1, showHist=False))\n"
   ]
  },
  {
   "cell_type": "markdown",
   "metadata": {},
   "source": [
    "> As you can see, an initial speed of $3.3_{\\frac{m}{s}}$ and a drag coefficient of $0.08$ give us pretty good results in the simulation."
   ]
  },
  {
   "cell_type": "markdown",
   "metadata": {},
   "source": [
    "## P8.4\n",
    "Now let’s include all relevant uncertainties in your model, similar to what\n",
    "we did last week. You’ll want to make a code that looks similar to last week’s\n",
    "code, with several logical additions for the air drag.\n",
    "\n",
    "> I already did this form the beginning (see the uncertainty structure in [P8.3](#P8.3))\n",
    "\n",
    "##### Once your code is working, invesitgate which uncertainty affects the range, max height, and impact speed of the projectile.\n",
    "> It turns out the the area uncertainty and the angle uncertainty gave me the greatest impact"
   ]
  },
  {
   "cell_type": "markdown",
   "metadata": {},
   "source": [
    "## P8.5 \n",
    "Test your model’s ability to predict the future location of your projectile.\n",
    "\n",
    "##### (a) Choose some initial conditions(launch angle, launch height) and compute the projectile’s trajectory. These condidtion should be different from the conditions when you recorded the video.\n"
   ]
  },
  {
   "cell_type": "markdown",
   "metadata": {},
   "source": [
    "> # I WAS UNABLE TO COMPLETE THIS PART BECAUSE I RAN OUT OF TIME"
   ]
  },
  {
   "cell_type": "markdown",
   "metadata": {},
   "source": [
    "# Take Home Thought\n",
    "\n",
    "Our program is becoming more complex. It now accounts for air drag. I am glad we are not doing this all by hand, and instead are taking complete advangate of the advanced features that Computer Science can offer.\n",
    "\n",
    "# Signing Off\n",
    "- Kyle West\n",
    "- Landon Lewis"
   ]
  }
 ],
 "metadata": {
  "kernelspec": {
   "display_name": "Python 3",
   "language": "python",
   "name": "python3"
  },
  "language_info": {
   "codemirror_mode": {
    "name": "ipython",
    "version": 3
   },
   "file_extension": ".py",
   "mimetype": "text/x-python",
   "name": "python",
   "nbconvert_exporter": "python",
   "pygments_lexer": "ipython3",
   "version": "3.6.5"
  }
 },
 "nbformat": 4,
 "nbformat_minor": 2
}
