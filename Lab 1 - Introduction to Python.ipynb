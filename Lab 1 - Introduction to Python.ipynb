{
 "cells": [
  {
   "cell_type": "markdown",
   "metadata": {},
   "source": [
    "# Lab 1 Introduction to Python"
   ]
  },
  {
   "cell_type": "markdown",
   "metadata": {},
   "source": [
    "[<< Table of Contents](index.html)"
   ]
  },
  {
   "cell_type": "code",
   "execution_count": 1,
   "metadata": {},
   "outputs": [],
   "source": [
    "import numpy as np\n",
    "import matplotlib.pyplot as plt\n",
    "\n",
    "def output(ans, goal):\n",
    "   print(\"\\t\",goal, \"=>\", ans)"
   ]
  },
  {
   "cell_type": "markdown",
   "metadata": {},
   "source": [
    "## P1.1\n",
    "Read chapter 1 in the python book, performing all the prescribed tasks.\n",
    "\n",
    ">I have been developing in Python for about 3 years. I felt pretty good about the book, and have chosen not to do the problems because of their trivial nature. "
   ]
  },
  {
   "cell_type": "markdown",
   "metadata": {},
   "source": [
    "## P1.2\n",
    "Read sections 3.1(integers),3.2(floats), and 4.2(importing libraries) in the\n",
    "python book, performing all example calculations. Then performthe following\n",
    "calculations:"
   ]
  },
  {
   "cell_type": "markdown",
   "metadata": {},
   "source": [
    "##### P1.2 (a) \n",
    "\\begin{align}\n",
    "5cos^2(23) + e^{10}\n",
    "\\end{align}"
   ]
  },
  {
   "cell_type": "code",
   "execution_count": 2,
   "metadata": {},
   "outputs": [
    {
     "name": "stdout",
     "output_type": "stream",
     "text": [
      "\t 5*cos2(23deg) + e^10 => 22030.70244073285\n"
     ]
    }
   ],
   "source": [
    "goal = \"5*cos2(23deg) + e^10\"\n",
    "ans = 5.0 * np.cos(np.radians(23.0))**2 + np.e**10\n",
    "output(ans, goal)"
   ]
  },
  {
   "cell_type": "markdown",
   "metadata": {},
   "source": [
    "##### P1.2 (b) \n",
    "\\begin{align}\n",
    "5\\sqrt{50} * 67^{2/3}\n",
    "\\end{align}"
   ]
  },
  {
   "cell_type": "code",
   "execution_count": 3,
   "metadata": {},
   "outputs": [
    {
     "name": "stdout",
     "output_type": "stream",
     "text": [
      "\t 5 * sqrt(50) * 67^(2/3) => 583.227788614642\n"
     ]
    }
   ],
   "source": [
    "goal = \"5 * sqrt(50) * 67^(2/3)\"\n",
    "ans = 5.0 * np.sqrt(50.0) * 67.0**(2/3.0)\n",
    "output(ans, goal)"
   ]
  },
  {
   "cell_type": "markdown",
   "metadata": {},
   "source": [
    "##### P1.2 (c)\n",
    "\\begin{align}\n",
    "5cosh(20) + 8sinh(9)\n",
    "\\end{align}"
   ]
  },
  {
   "cell_type": "code",
   "execution_count": 4,
   "metadata": {},
   "outputs": [
    {
     "name": "stdout",
     "output_type": "stream",
     "text": [
      "\t 5*cosh(20) + 8*sinh(9) => 1212945400.8596923\n"
     ]
    }
   ],
   "source": [
    "goal = \"5*cosh(20) + 8*sinh(9)\"\n",
    "ans = 5.0*np.cosh(20.0) + 8.0*np.sinh(9.0)\n",
    "output(ans, goal)"
   ]
  },
  {
   "cell_type": "markdown",
   "metadata": {},
   "source": [
    "## P1.3\n",
    "Read section 3.5(lists) and 4.1(native functions) in the python book, performing\n",
    "all of the example calculations. Then perform the following calculations:"
   ]
  },
  {
   "cell_type": "markdown",
   "metadata": {},
   "source": [
    "##### P1.3 (a) \n",
    "Sum of first 10 primes"
   ]
  },
  {
   "cell_type": "code",
   "execution_count": 5,
   "metadata": {},
   "outputs": [
    {
     "name": "stdout",
     "output_type": "stream",
     "text": [
      "\t Sum of first 10 primes => 129\n"
     ]
    }
   ],
   "source": [
    "goal = \"Sum of first 10 primes\"\n",
    "ans = [2, 3, 5, 7, 11, 13, 17, 19, 23, 29]\n",
    "output(sum(ans), goal)"
   ]
  },
  {
   "cell_type": "markdown",
   "metadata": {},
   "source": [
    "##### P1.3 (b) \n",
    "Sum of first 11 primes"
   ]
  },
  {
   "cell_type": "code",
   "execution_count": 6,
   "metadata": {},
   "outputs": [
    {
     "name": "stdout",
     "output_type": "stream",
     "text": [
      "\t Sum of first 11 primes => 160\n"
     ]
    }
   ],
   "source": [
    "goal = \"Sum of first 11 primes\"\n",
    "ans.append(31)\n",
    "output(sum(ans), goal)"
   ]
  },
  {
   "cell_type": "markdown",
   "metadata": {},
   "source": [
    "##### P1.3 (c) \n",
    "3 thru 54 by threes"
   ]
  },
  {
   "cell_type": "code",
   "execution_count": 7,
   "metadata": {},
   "outputs": [
    {
     "name": "stdout",
     "output_type": "stream",
     "text": [
      "\t 3 thru 54 by threes => [3, 6, 9, 12, 15, 18, 21, 24, 27, 30, 33, 36, 39, 42, 45, 48, 51, 54]\n"
     ]
    }
   ],
   "source": [
    "goal = \"3 thru 54 by threes\"\n",
    "ans = list(range(3, 55, 3))\n",
    "output(ans, goal)"
   ]
  },
  {
   "cell_type": "markdown",
   "metadata": {},
   "source": [
    "##### P1.3 (d) \n",
    "Sum of the above numbers"
   ]
  },
  {
   "cell_type": "code",
   "execution_count": 8,
   "metadata": {},
   "outputs": [
    {
     "name": "stdout",
     "output_type": "stream",
     "text": [
      "\t Sum of those ^^^ numbers => 513\n"
     ]
    }
   ],
   "source": [
    "goal = \"Sum of those ^^^ numbers\"\n",
    "output(sum(ans), goal)"
   ]
  },
  {
   "cell_type": "markdown",
   "metadata": {},
   "source": [
    "## P1.4\n",
    "Read section chapter 6(loops) in the python book, performing all example calculations. Then perform the following:"
   ]
  },
  {
   "cell_type": "markdown",
   "metadata": {},
   "source": [
    "##### P1.4 (a)\n",
    "Look for multiples of 5 Below 101"
   ]
  },
  {
   "cell_type": "code",
   "execution_count": 9,
   "metadata": {},
   "outputs": [
    {
     "name": "stdout",
     "output_type": "stream",
     "text": [
      "\t Look for multiples of 5 => Below 101:\n",
      "\t\tFiver: 10\n",
      "\t\tFiver: 20\n",
      "\t\tFiver: 30\n",
      "\t\tFiver: 40\n",
      "\t\tFiver: 50\n",
      "\t\tFiver: 60\n",
      "\t\tFiver: 70\n",
      "\t\tFiver: 80\n",
      "\t\tFiver: 90\n",
      "\t\tFiver: 100\n"
     ]
    }
   ],
   "source": [
    "goal = \"Look for multiples of 5\"\n",
    "ans = \"Below 101:\"\n",
    "output(ans, goal)\n",
    "for i in range(2, 102, 2):\n",
    "   if i % 5 == 0:\n",
    "      print(\"\\t\\tFiver:\", i)"
   ]
  },
  {
   "cell_type": "markdown",
   "metadata": {},
   "source": [
    "##### P1.4 (b)\n",
    "Find numerically the sum of `n((3/4)^n)` where `n -> 1:1000`"
   ]
  },
  {
   "cell_type": "code",
   "execution_count": 11,
   "metadata": {},
   "outputs": [
    {
     "name": "stdout",
     "output_type": "stream",
     "text": [
      "\t Find numerically the sum of n((3/4)^n) where n -> 1:1000 => 12.000000000000005\n"
     ]
    }
   ],
   "source": [
    "goal = \"Find numerically the sum of n((3/4)^n) where n -> 1:1000\"\n",
    "ans = sum(list([n*((3/4.0)**n) for n in range(1,1001)]))\n",
    "output(ans, goal)"
   ]
  },
  {
   "cell_type": "markdown",
   "metadata": {},
   "source": [
    "## P1.5\n",
    "Read section chapter 6(loops) in the python book, performing all example calculations. Then perform the following:"
   ]
  },
  {
   "cell_type": "code",
   "execution_count": 12,
   "metadata": {},
   "outputs": [],
   "source": [
    "# P1.5 (a) \n",
    "def some_function(a):\n",
    "   # P1.5 (b) \n",
    "   tmp = range(4, a, 3)\n",
    "   # P1.5 (c) \n",
    "   b = sum(tmp)\n",
    "   # P1.5 (d) \n",
    "   return np.sqrt(b)"
   ]
  },
  {
   "cell_type": "code",
   "execution_count": 13,
   "metadata": {},
   "outputs": [
    {
     "name": "stdout",
     "output_type": "stream",
     "text": [
      "\t Test our function with a as 7 => 2.0\n",
      "\t Test our function with a as 15 => 5.830951894845301\n",
      "\t Test our function with a as 25 => 9.539392014169456\n",
      "\t Test our function with a as 1234 => 503.1649828833481\n",
      "\t Test our function with a as 54399 => 22208.094605346043\n"
     ]
    }
   ],
   "source": [
    "# P1.5 (e) \n",
    "output(some_function(7), \"Test our function with a as 7\")\n",
    "output(some_function(15), \"Test our function with a as 15\")\n",
    "output(some_function(25), \"Test our function with a as 25\")\n",
    "output(some_function(1234), \"Test our function with a as 1234\")\n",
    "output(some_function(54399), \"Test our function with a as 54399\")"
   ]
  },
  {
   "cell_type": "markdown",
   "metadata": {},
   "source": [
    "## P1.6\n",
    " Read section chapter 6(loops) in the python book, performing all example\n",
    "calculations. Then performthe following:"
   ]
  },
  {
   "cell_type": "code",
   "execution_count": 17,
   "metadata": {},
   "outputs": [
    {
     "data": {
      "image/png": "[encoded data removed]",
      "text/plain": [
       "<Figure size 432x288 with 1 Axes>"
      ]
     },
     "metadata": {},
     "output_type": "display_data"
    }
   ],
   "source": [
    "# P1.6 (a) \n",
    "x = np.linspace(0, 3, 100)\n",
    "y = np.sin(x**2) * np.e**(-x)\n",
    "\n",
    "# P1.6 (b) \n",
    "plt.plot(x, y, 'r--')\n",
    "\n",
    "# P1.6 (c)\n",
    "plt.xlabel('X axis label')\n",
    "plt.ylabel('Y axis label')\n",
    "\n",
    "# P1.6 (d)\n",
    "plt.title('Title goes here')\n",
    "\n",
    "# P1.6 (e) No need to do this in a Jupyter Notebook\n",
    "# filename = 'lab1_P1.6e.png' \n",
    "# plt.savefig(filename)\n",
    "# output(filename,\"Plot found in\")\n",
    "\n",
    "# we can run this instead P1.6 (e)\n",
    "plt.show()\n",
    "\n"
   ]
  }
 ],
 "metadata": {
  "kernelspec": {
   "display_name": "Python 3",
   "language": "python",
   "name": "python3"
  },
  "language_info": {
   "codemirror_mode": {
    "name": "ipython",
    "version": 3
   },
   "file_extension": ".py",
   "mimetype": "text/x-python",
   "name": "python",
   "nbconvert_exporter": "python",
   "pygments_lexer": "ipython3",
   "version": "3.6.5"
  }
 },
 "nbformat": 4,
 "nbformat_minor": 2
}
